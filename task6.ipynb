{
 "cells": [
  {
   "cell_type": "code",
   "execution_count": 1,
   "metadata": {},
   "outputs": [
    {
     "name": "stderr",
     "output_type": "stream",
     "text": [
      "/home/maycon/IC-RedesDomesticas/.env/lib/python3.10/site-packages/tqdm/auto.py:21: TqdmWarning: IProgress not found. Please update jupyter and ipywidgets. See https://ipywidgets.readthedocs.io/en/stable/user_install.html\n",
      "  from .autonotebook import tqdm as notebook_tqdm\n"
     ]
    }
   ],
   "source": [
    "import pandas as pd\n",
    "from pandas import DataFrame\n",
    "import ydata_profiling\n",
    "\n",
    "%matplotlib inline"
   ]
  },
  {
   "cell_type": "code",
   "execution_count": 2,
   "metadata": {},
   "outputs": [],
   "source": [
    "pd.set_option(\"styler.format.thousands\", \",\")"
   ]
  },
  {
   "cell_type": "code",
   "execution_count": 3,
   "metadata": {},
   "outputs": [],
   "source": [
    "try:\n",
    "    trafego_IOT_limpo = pd.read_csv('./csv/trafego_IOT_limpo.csv', index_col='id')\n",
    "    trafego_normal_limpo = pd.read_csv('./csv/trafego_normal_limpo.csv', index_col='id')\n",
    "\n",
    "    data_trafego = pd.concat([trafego_normal_limpo,trafego_IOT_limpo])\n",
    "except:\n",
    "    data_trafego = pd.read_csv('./trafego_limpo.csv', index_col='id')"
   ]
  },
  {
   "cell_type": "code",
   "execution_count": 4,
   "metadata": {},
   "outputs": [
    {
     "ename": "TypeError",
     "evalue": "'module' object is not callable",
     "output_type": "error",
     "traceback": [
      "\u001b[0;31m---------------------------------------------------------------------------\u001b[0m",
      "\u001b[0;31mTypeError\u001b[0m                                 Traceback (most recent call last)",
      "Cell \u001b[0;32mIn[4], line 4\u001b[0m\n\u001b[1;32m      1\u001b[0m \u001b[39mimport\u001b[39;00m \u001b[39mmatplotlib\u001b[39;00m \u001b[39mas\u001b[39;00m \u001b[39mplt\u001b[39;00m\n\u001b[1;32m      2\u001b[0m \u001b[39mimport\u001b[39;00m \u001b[39mseaborn\u001b[39;00m \u001b[39mas\u001b[39;00m \u001b[39msns\u001b[39;00m\n\u001b[0;32m----> 4\u001b[0m plt\u001b[39m.\u001b[39;49mfigure(figsize\u001b[39m=\u001b[39;49m(\u001b[39m15\u001b[39;49m,\u001b[39m15\u001b[39;49m))\n\u001b[1;32m      5\u001b[0m sns\u001b[39m.\u001b[39mheatmap(data_trafego\u001b[39m.\u001b[39mcorr(), annot\u001b[39m=\u001b[39m\u001b[39mTrue\u001b[39;00m, cmap\u001b[39m=\u001b[39m\u001b[39m'\u001b[39m\u001b[39mOranges\u001b[39m\u001b[39m'\u001b[39m, fmt\u001b[39m=\u001b[39m\u001b[39m'\u001b[39m\u001b[39m.2f\u001b[39m\u001b[39m'\u001b[39m)\n",
      "\u001b[0;31mTypeError\u001b[0m: 'module' object is not callable"
     ]
    }
   ],
   "source": [
    "import matplotlib as plt\n",
    "import seaborn as sns\n",
    "\n",
    "plt.figure(figsize=(15,15))\n",
    "sns.heatmap(data_trafego.corr(), annot=True, cmap='Oranges', fmt='.2f')"
   ]
  },
  {
   "cell_type": "code",
   "execution_count": 6,
   "metadata": {},
   "outputs": [],
   "source": [
    "data_trafego = data_trafego.drop(columns=['Unnamed: 0'])\n",
    "\n",
    "# data_trafego.to_csv('./trafego_limpo.csv')"
   ]
  },
  {
   "cell_type": "code",
   "execution_count": 7,
   "metadata": {},
   "outputs": [
    {
     "data": {
      "text/plain": [
       "array([0, 1])"
      ]
     },
     "execution_count": 7,
     "metadata": {},
     "output_type": "execute_result"
    }
   ],
   "source": [
    "data_trafego['label'].unique()"
   ]
  },
  {
   "cell_type": "code",
   "execution_count": 8,
   "metadata": {},
   "outputs": [
    {
     "data": {
      "text/plain": [
       "src2dst_last_seen_ms           369392\n",
       "bidirectional_last_seen_ms     363084\n",
       "dst2src_last_seen_ms           359931\n",
       "bidirectional_first_seen_ms    357790\n",
       "src2dst_first_seen_ms          357790\n",
       "                                ...  \n",
       "dst2src_cwr_packets                 1\n",
       "dst2src_ece_packets                 1\n",
       "dst2src_urg_packets                 1\n",
       "bidirectional_cwr_packets           1\n",
       "vlan_id                             1\n",
       "Length: 74, dtype: int64"
      ]
     },
     "execution_count": 8,
     "metadata": {},
     "output_type": "execute_result"
    }
   ],
   "source": [
    "data_trafego.nunique().sort_values(ascending=False)"
   ]
  },
  {
   "cell_type": "code",
   "execution_count": 9,
   "metadata": {},
   "outputs": [],
   "source": [
    "# dados = ydata_profiling.ProfileReport(data_trafego, minimal=True)\n",
    "\n",
    "# dados.to_file('./Relatorios/trafego_limpo.html')"
   ]
  },
  {
   "cell_type": "code",
   "execution_count": 10,
   "metadata": {},
   "outputs": [
    {
     "data": {
      "text/plain": [
       "src_oui                  object\n",
       "dst_oui                  object\n",
       "requested_server_name    object\n",
       "dtype: object"
      ]
     },
     "execution_count": 10,
     "metadata": {},
     "output_type": "execute_result"
    }
   ],
   "source": [
    "aux = data_trafego.dtypes\n",
    "\n",
    "aux = aux[aux == object]\n",
    "\n",
    "aux"
   ]
  },
  {
   "cell_type": "code",
   "execution_count": 11,
   "metadata": {},
   "outputs": [
    {
     "data": {
      "text/plain": [
       "array(['ff:ff:ff', '52:54:00', '33:33:00', '01:00:5e', '00:13:33',\n",
       "       '60:6c:66', '38:72:c0', '00:16:47', '1c:6f:65', 'd8:58:d7',\n",
       "       '14:cc:20', '00:16:6c', 'ec:1a:59', 'd0:52:a8'], dtype=object)"
      ]
     },
     "execution_count": 11,
     "metadata": {},
     "output_type": "execute_result"
    }
   ],
   "source": [
    "data_trafego['dst_oui'].unique()"
   ]
  },
  {
   "cell_type": "code",
   "execution_count": 12,
   "metadata": {},
   "outputs": [],
   "source": [
    "index_numbers = data_trafego.select_dtypes(include='number').columns\n",
    "\n",
    "dados_train = data_trafego[index_numbers]"
   ]
  },
  {
   "cell_type": "code",
   "execution_count": 13,
   "metadata": {},
   "outputs": [
    {
     "name": "stdout",
     "output_type": "stream",
     "text": [
      "<class 'pandas.core.frame.DataFrame'>\n",
      "Int64Index: 734314 entries, 3 to 74529\n",
      "Data columns (total 71 columns):\n",
      " #   Column                        Non-Null Count   Dtype  \n",
      "---  ------                        --------------   -----  \n",
      " 0   expiration_id                 734314 non-null  int64  \n",
      " 1   src_port                      734314 non-null  int64  \n",
      " 2   dst_port                      734314 non-null  int64  \n",
      " 3   protocol                      734314 non-null  int64  \n",
      " 4   ip_version                    734314 non-null  int64  \n",
      " 5   vlan_id                       734314 non-null  int64  \n",
      " 6   tunnel_id                     734314 non-null  int64  \n",
      " 7   bidirectional_first_seen_ms   734314 non-null  int64  \n",
      " 8   bidirectional_last_seen_ms    734314 non-null  int64  \n",
      " 9   bidirectional_duration_ms     734314 non-null  int64  \n",
      " 10  bidirectional_packets         734314 non-null  int64  \n",
      " 11  bidirectional_bytes           734314 non-null  int64  \n",
      " 12  src2dst_first_seen_ms         734314 non-null  int64  \n",
      " 13  src2dst_last_seen_ms          734314 non-null  int64  \n",
      " 14  src2dst_duration_ms           734314 non-null  int64  \n",
      " 15  src2dst_packets               734314 non-null  int64  \n",
      " 16  src2dst_bytes                 734314 non-null  int64  \n",
      " 17  dst2src_first_seen_ms         734314 non-null  int64  \n",
      " 18  dst2src_last_seen_ms          734314 non-null  int64  \n",
      " 19  dst2src_duration_ms           734314 non-null  int64  \n",
      " 20  dst2src_packets               734314 non-null  int64  \n",
      " 21  dst2src_bytes                 734314 non-null  int64  \n",
      " 22  bidirectional_min_ps          734314 non-null  int64  \n",
      " 23  bidirectional_mean_ps         734314 non-null  float64\n",
      " 24  bidirectional_stddev_ps       734314 non-null  float64\n",
      " 25  bidirectional_max_ps          734314 non-null  int64  \n",
      " 26  src2dst_min_ps                734314 non-null  int64  \n",
      " 27  src2dst_mean_ps               734314 non-null  float64\n",
      " 28  src2dst_stddev_ps             734314 non-null  float64\n",
      " 29  src2dst_max_ps                734314 non-null  int64  \n",
      " 30  dst2src_min_ps                734314 non-null  int64  \n",
      " 31  dst2src_mean_ps               734314 non-null  float64\n",
      " 32  dst2src_stddev_ps             734314 non-null  float64\n",
      " 33  dst2src_max_ps                734314 non-null  int64  \n",
      " 34  bidirectional_min_piat_ms     734314 non-null  int64  \n",
      " 35  bidirectional_mean_piat_ms    734314 non-null  float64\n",
      " 36  bidirectional_stddev_piat_ms  734314 non-null  float64\n",
      " 37  bidirectional_max_piat_ms     734314 non-null  int64  \n",
      " 38  src2dst_min_piat_ms           734314 non-null  int64  \n",
      " 39  src2dst_mean_piat_ms          734314 non-null  float64\n",
      " 40  src2dst_stddev_piat_ms        734314 non-null  float64\n",
      " 41  src2dst_max_piat_ms           734314 non-null  int64  \n",
      " 42  dst2src_min_piat_ms           734314 non-null  int64  \n",
      " 43  dst2src_mean_piat_ms          734314 non-null  float64\n",
      " 44  dst2src_stddev_piat_ms        734314 non-null  float64\n",
      " 45  dst2src_max_piat_ms           734314 non-null  int64  \n",
      " 46  bidirectional_syn_packets     734314 non-null  int64  \n",
      " 47  bidirectional_cwr_packets     734314 non-null  int64  \n",
      " 48  bidirectional_ece_packets     734314 non-null  int64  \n",
      " 49  bidirectional_urg_packets     734314 non-null  int64  \n",
      " 50  bidirectional_ack_packets     734314 non-null  int64  \n",
      " 51  bidirectional_psh_packets     734314 non-null  int64  \n",
      " 52  bidirectional_rst_packets     734314 non-null  int64  \n",
      " 53  bidirectional_fin_packets     734314 non-null  int64  \n",
      " 54  src2dst_syn_packets           734314 non-null  int64  \n",
      " 55  src2dst_cwr_packets           734314 non-null  int64  \n",
      " 56  src2dst_ece_packets           734314 non-null  int64  \n",
      " 57  src2dst_urg_packets           734314 non-null  int64  \n",
      " 58  src2dst_ack_packets           734314 non-null  int64  \n",
      " 59  src2dst_psh_packets           734314 non-null  int64  \n",
      " 60  src2dst_rst_packets           734314 non-null  int64  \n",
      " 61  src2dst_fin_packets           734314 non-null  int64  \n",
      " 62  dst2src_syn_packets           734314 non-null  int64  \n",
      " 63  dst2src_cwr_packets           734314 non-null  int64  \n",
      " 64  dst2src_ece_packets           734314 non-null  int64  \n",
      " 65  dst2src_urg_packets           734314 non-null  int64  \n",
      " 66  dst2src_ack_packets           734314 non-null  int64  \n",
      " 67  dst2src_psh_packets           734314 non-null  int64  \n",
      " 68  dst2src_rst_packets           734314 non-null  int64  \n",
      " 69  dst2src_fin_packets           734314 non-null  int64  \n",
      " 70  label                         734314 non-null  int64  \n",
      "dtypes: float64(12), int64(59)\n",
      "memory usage: 403.4 MB\n"
     ]
    }
   ],
   "source": [
    "dados_train.info()"
   ]
  },
  {
   "cell_type": "code",
   "execution_count": 14,
   "metadata": {},
   "outputs": [
    {
     "data": {
      "text/plain": [
       "array([0, 1])"
      ]
     },
     "execution_count": 14,
     "metadata": {},
     "output_type": "execute_result"
    }
   ],
   "source": [
    "dados_train['label'].unique()"
   ]
  },
  {
   "cell_type": "code",
   "execution_count": 15,
   "metadata": {},
   "outputs": [
    {
     "data": {
      "text/plain": [
       "0    374937\n",
       "1    359377\n",
       "Name: label, dtype: int64"
      ]
     },
     "execution_count": 15,
     "metadata": {},
     "output_type": "execute_result"
    }
   ],
   "source": [
    "aux = pd.read_csv(\"trafego_limpo.csv\")\n",
    "\n",
    "aux['label'].value_counts()"
   ]
  },
  {
   "cell_type": "code",
   "execution_count": 16,
   "metadata": {},
   "outputs": [
    {
     "data": {
      "text/html": [
       "<div>\n",
       "<style scoped>\n",
       "    .dataframe tbody tr th:only-of-type {\n",
       "        vertical-align: middle;\n",
       "    }\n",
       "\n",
       "    .dataframe tbody tr th {\n",
       "        vertical-align: top;\n",
       "    }\n",
       "\n",
       "    .dataframe thead th {\n",
       "        text-align: right;\n",
       "    }\n",
       "</style>\n",
       "<table border=\"1\" class=\"dataframe\">\n",
       "  <thead>\n",
       "    <tr style=\"text-align: right;\">\n",
       "      <th></th>\n",
       "      <th>id</th>\n",
       "      <th>expiration_id</th>\n",
       "      <th>src_oui</th>\n",
       "      <th>src_port</th>\n",
       "      <th>dst_oui</th>\n",
       "      <th>dst_port</th>\n",
       "      <th>protocol</th>\n",
       "      <th>ip_version</th>\n",
       "      <th>vlan_id</th>\n",
       "      <th>tunnel_id</th>\n",
       "      <th>...</th>\n",
       "      <th>dst2src_syn_packets</th>\n",
       "      <th>dst2src_cwr_packets</th>\n",
       "      <th>dst2src_ece_packets</th>\n",
       "      <th>dst2src_urg_packets</th>\n",
       "      <th>dst2src_ack_packets</th>\n",
       "      <th>dst2src_psh_packets</th>\n",
       "      <th>dst2src_rst_packets</th>\n",
       "      <th>dst2src_fin_packets</th>\n",
       "      <th>requested_server_name</th>\n",
       "      <th>label</th>\n",
       "    </tr>\n",
       "  </thead>\n",
       "  <tbody>\n",
       "    <tr>\n",
       "      <th>0</th>\n",
       "      <td>3</td>\n",
       "      <td>0</td>\n",
       "      <td>08:00:27</td>\n",
       "      <td>68</td>\n",
       "      <td>ff:ff:ff</td>\n",
       "      <td>67</td>\n",
       "      <td>17</td>\n",
       "      <td>4</td>\n",
       "      <td>0</td>\n",
       "      <td>0</td>\n",
       "      <td>...</td>\n",
       "      <td>0</td>\n",
       "      <td>0</td>\n",
       "      <td>0</td>\n",
       "      <td>0</td>\n",
       "      <td>0</td>\n",
       "      <td>0</td>\n",
       "      <td>0</td>\n",
       "      <td>0</td>\n",
       "      <td>tiny71</td>\n",
       "      <td>0</td>\n",
       "    </tr>\n",
       "    <tr>\n",
       "      <th>1</th>\n",
       "      <td>6</td>\n",
       "      <td>0</td>\n",
       "      <td>08:00:27</td>\n",
       "      <td>68</td>\n",
       "      <td>ff:ff:ff</td>\n",
       "      <td>67</td>\n",
       "      <td>17</td>\n",
       "      <td>4</td>\n",
       "      <td>0</td>\n",
       "      <td>0</td>\n",
       "      <td>...</td>\n",
       "      <td>0</td>\n",
       "      <td>0</td>\n",
       "      <td>0</td>\n",
       "      <td>0</td>\n",
       "      <td>0</td>\n",
       "      <td>0</td>\n",
       "      <td>0</td>\n",
       "      <td>0</td>\n",
       "      <td>tiny71</td>\n",
       "      <td>0</td>\n",
       "    </tr>\n",
       "    <tr>\n",
       "      <th>2</th>\n",
       "      <td>7</td>\n",
       "      <td>0</td>\n",
       "      <td>08:00:27</td>\n",
       "      <td>54892</td>\n",
       "      <td>52:54:00</td>\n",
       "      <td>53</td>\n",
       "      <td>17</td>\n",
       "      <td>4</td>\n",
       "      <td>0</td>\n",
       "      <td>0</td>\n",
       "      <td>...</td>\n",
       "      <td>0</td>\n",
       "      <td>0</td>\n",
       "      <td>0</td>\n",
       "      <td>0</td>\n",
       "      <td>0</td>\n",
       "      <td>0</td>\n",
       "      <td>0</td>\n",
       "      <td>0</td>\n",
       "      <td>wpad.lan</td>\n",
       "      <td>0</td>\n",
       "    </tr>\n",
       "    <tr>\n",
       "      <th>3</th>\n",
       "      <td>8</td>\n",
       "      <td>0</td>\n",
       "      <td>08:00:27</td>\n",
       "      <td>52935</td>\n",
       "      <td>33:33:00</td>\n",
       "      <td>5355</td>\n",
       "      <td>17</td>\n",
       "      <td>6</td>\n",
       "      <td>0</td>\n",
       "      <td>0</td>\n",
       "      <td>...</td>\n",
       "      <td>0</td>\n",
       "      <td>0</td>\n",
       "      <td>0</td>\n",
       "      <td>0</td>\n",
       "      <td>0</td>\n",
       "      <td>0</td>\n",
       "      <td>0</td>\n",
       "      <td>0</td>\n",
       "      <td>wpad</td>\n",
       "      <td>0</td>\n",
       "    </tr>\n",
       "    <tr>\n",
       "      <th>4</th>\n",
       "      <td>9</td>\n",
       "      <td>0</td>\n",
       "      <td>08:00:27</td>\n",
       "      <td>56197</td>\n",
       "      <td>01:00:5e</td>\n",
       "      <td>5355</td>\n",
       "      <td>17</td>\n",
       "      <td>4</td>\n",
       "      <td>0</td>\n",
       "      <td>0</td>\n",
       "      <td>...</td>\n",
       "      <td>0</td>\n",
       "      <td>0</td>\n",
       "      <td>0</td>\n",
       "      <td>0</td>\n",
       "      <td>0</td>\n",
       "      <td>0</td>\n",
       "      <td>0</td>\n",
       "      <td>0</td>\n",
       "      <td>wpad</td>\n",
       "      <td>0</td>\n",
       "    </tr>\n",
       "  </tbody>\n",
       "</table>\n",
       "<p>5 rows × 75 columns</p>\n",
       "</div>"
      ],
      "text/plain": [
       "   id  expiration_id   src_oui  src_port   dst_oui  dst_port  protocol  \\\n",
       "0   3              0  08:00:27        68  ff:ff:ff        67        17   \n",
       "1   6              0  08:00:27        68  ff:ff:ff        67        17   \n",
       "2   7              0  08:00:27     54892  52:54:00        53        17   \n",
       "3   8              0  08:00:27     52935  33:33:00      5355        17   \n",
       "4   9              0  08:00:27     56197  01:00:5e      5355        17   \n",
       "\n",
       "   ip_version  vlan_id  tunnel_id  ...  dst2src_syn_packets  \\\n",
       "0           4        0          0  ...                    0   \n",
       "1           4        0          0  ...                    0   \n",
       "2           4        0          0  ...                    0   \n",
       "3           6        0          0  ...                    0   \n",
       "4           4        0          0  ...                    0   \n",
       "\n",
       "   dst2src_cwr_packets  dst2src_ece_packets  dst2src_urg_packets  \\\n",
       "0                    0                    0                    0   \n",
       "1                    0                    0                    0   \n",
       "2                    0                    0                    0   \n",
       "3                    0                    0                    0   \n",
       "4                    0                    0                    0   \n",
       "\n",
       "   dst2src_ack_packets  dst2src_psh_packets  dst2src_rst_packets  \\\n",
       "0                    0                    0                    0   \n",
       "1                    0                    0                    0   \n",
       "2                    0                    0                    0   \n",
       "3                    0                    0                    0   \n",
       "4                    0                    0                    0   \n",
       "\n",
       "   dst2src_fin_packets  requested_server_name  label  \n",
       "0                    0                 tiny71      0  \n",
       "1                    0                 tiny71      0  \n",
       "2                    0               wpad.lan      0  \n",
       "3                    0                   wpad      0  \n",
       "4                    0                   wpad      0  \n",
       "\n",
       "[5 rows x 75 columns]"
      ]
     },
     "execution_count": 16,
     "metadata": {},
     "output_type": "execute_result"
    }
   ],
   "source": [
    "aux.head()"
   ]
  },
  {
   "cell_type": "code",
   "execution_count": 17,
   "metadata": {},
   "outputs": [
    {
     "data": {
      "text/html": [
       "<div>\n",
       "<style scoped>\n",
       "    .dataframe tbody tr th:only-of-type {\n",
       "        vertical-align: middle;\n",
       "    }\n",
       "\n",
       "    .dataframe tbody tr th {\n",
       "        vertical-align: top;\n",
       "    }\n",
       "\n",
       "    .dataframe thead th {\n",
       "        text-align: right;\n",
       "    }\n",
       "</style>\n",
       "<table border=\"1\" class=\"dataframe\">\n",
       "  <thead>\n",
       "    <tr style=\"text-align: right;\">\n",
       "      <th></th>\n",
       "      <th>expiration_id</th>\n",
       "      <th>src_port</th>\n",
       "      <th>dst_port</th>\n",
       "      <th>protocol</th>\n",
       "      <th>ip_version</th>\n",
       "      <th>vlan_id</th>\n",
       "      <th>tunnel_id</th>\n",
       "      <th>bidirectional_first_seen_ms</th>\n",
       "      <th>bidirectional_last_seen_ms</th>\n",
       "      <th>bidirectional_duration_ms</th>\n",
       "      <th>...</th>\n",
       "      <th>src2dst_fin_packets</th>\n",
       "      <th>dst2src_syn_packets</th>\n",
       "      <th>dst2src_cwr_packets</th>\n",
       "      <th>dst2src_ece_packets</th>\n",
       "      <th>dst2src_urg_packets</th>\n",
       "      <th>dst2src_ack_packets</th>\n",
       "      <th>dst2src_psh_packets</th>\n",
       "      <th>dst2src_rst_packets</th>\n",
       "      <th>dst2src_fin_packets</th>\n",
       "      <th>label</th>\n",
       "    </tr>\n",
       "    <tr>\n",
       "      <th>id</th>\n",
       "      <th></th>\n",
       "      <th></th>\n",
       "      <th></th>\n",
       "      <th></th>\n",
       "      <th></th>\n",
       "      <th></th>\n",
       "      <th></th>\n",
       "      <th></th>\n",
       "      <th></th>\n",
       "      <th></th>\n",
       "      <th></th>\n",
       "      <th></th>\n",
       "      <th></th>\n",
       "      <th></th>\n",
       "      <th></th>\n",
       "      <th></th>\n",
       "      <th></th>\n",
       "      <th></th>\n",
       "      <th></th>\n",
       "      <th></th>\n",
       "      <th></th>\n",
       "    </tr>\n",
       "  </thead>\n",
       "  <tbody>\n",
       "    <tr>\n",
       "      <th>3</th>\n",
       "      <td>0</td>\n",
       "      <td>68</td>\n",
       "      <td>67</td>\n",
       "      <td>17</td>\n",
       "      <td>4</td>\n",
       "      <td>0</td>\n",
       "      <td>0</td>\n",
       "      <td>63378</td>\n",
       "      <td>68383</td>\n",
       "      <td>5005</td>\n",
       "      <td>...</td>\n",
       "      <td>0</td>\n",
       "      <td>0</td>\n",
       "      <td>0</td>\n",
       "      <td>0</td>\n",
       "      <td>0</td>\n",
       "      <td>0</td>\n",
       "      <td>0</td>\n",
       "      <td>0</td>\n",
       "      <td>0</td>\n",
       "      <td>0</td>\n",
       "    </tr>\n",
       "    <tr>\n",
       "      <th>6</th>\n",
       "      <td>0</td>\n",
       "      <td>68</td>\n",
       "      <td>67</td>\n",
       "      <td>17</td>\n",
       "      <td>4</td>\n",
       "      <td>0</td>\n",
       "      <td>0</td>\n",
       "      <td>71835</td>\n",
       "      <td>139378</td>\n",
       "      <td>67543</td>\n",
       "      <td>...</td>\n",
       "      <td>0</td>\n",
       "      <td>0</td>\n",
       "      <td>0</td>\n",
       "      <td>0</td>\n",
       "      <td>0</td>\n",
       "      <td>0</td>\n",
       "      <td>0</td>\n",
       "      <td>0</td>\n",
       "      <td>0</td>\n",
       "      <td>0</td>\n",
       "    </tr>\n",
       "    <tr>\n",
       "      <th>7</th>\n",
       "      <td>0</td>\n",
       "      <td>54892</td>\n",
       "      <td>53</td>\n",
       "      <td>17</td>\n",
       "      <td>4</td>\n",
       "      <td>0</td>\n",
       "      <td>0</td>\n",
       "      <td>71931</td>\n",
       "      <td>72020</td>\n",
       "      <td>89</td>\n",
       "      <td>...</td>\n",
       "      <td>0</td>\n",
       "      <td>0</td>\n",
       "      <td>0</td>\n",
       "      <td>0</td>\n",
       "      <td>0</td>\n",
       "      <td>0</td>\n",
       "      <td>0</td>\n",
       "      <td>0</td>\n",
       "      <td>0</td>\n",
       "      <td>0</td>\n",
       "    </tr>\n",
       "    <tr>\n",
       "      <th>8</th>\n",
       "      <td>0</td>\n",
       "      <td>52935</td>\n",
       "      <td>5355</td>\n",
       "      <td>17</td>\n",
       "      <td>6</td>\n",
       "      <td>0</td>\n",
       "      <td>0</td>\n",
       "      <td>72059</td>\n",
       "      <td>72159</td>\n",
       "      <td>100</td>\n",
       "      <td>...</td>\n",
       "      <td>0</td>\n",
       "      <td>0</td>\n",
       "      <td>0</td>\n",
       "      <td>0</td>\n",
       "      <td>0</td>\n",
       "      <td>0</td>\n",
       "      <td>0</td>\n",
       "      <td>0</td>\n",
       "      <td>0</td>\n",
       "      <td>0</td>\n",
       "    </tr>\n",
       "    <tr>\n",
       "      <th>9</th>\n",
       "      <td>0</td>\n",
       "      <td>56197</td>\n",
       "      <td>5355</td>\n",
       "      <td>17</td>\n",
       "      <td>4</td>\n",
       "      <td>0</td>\n",
       "      <td>0</td>\n",
       "      <td>72060</td>\n",
       "      <td>72160</td>\n",
       "      <td>100</td>\n",
       "      <td>...</td>\n",
       "      <td>0</td>\n",
       "      <td>0</td>\n",
       "      <td>0</td>\n",
       "      <td>0</td>\n",
       "      <td>0</td>\n",
       "      <td>0</td>\n",
       "      <td>0</td>\n",
       "      <td>0</td>\n",
       "      <td>0</td>\n",
       "      <td>0</td>\n",
       "    </tr>\n",
       "  </tbody>\n",
       "</table>\n",
       "<p>5 rows × 71 columns</p>\n",
       "</div>"
      ],
      "text/plain": [
       "    expiration_id  src_port  dst_port  protocol  ip_version  vlan_id  \\\n",
       "id                                                                     \n",
       "3               0        68        67        17           4        0   \n",
       "6               0        68        67        17           4        0   \n",
       "7               0     54892        53        17           4        0   \n",
       "8               0     52935      5355        17           6        0   \n",
       "9               0     56197      5355        17           4        0   \n",
       "\n",
       "    tunnel_id  bidirectional_first_seen_ms  bidirectional_last_seen_ms  \\\n",
       "id                                                                       \n",
       "3           0                        63378                       68383   \n",
       "6           0                        71835                      139378   \n",
       "7           0                        71931                       72020   \n",
       "8           0                        72059                       72159   \n",
       "9           0                        72060                       72160   \n",
       "\n",
       "    bidirectional_duration_ms  ...  src2dst_fin_packets  dst2src_syn_packets  \\\n",
       "id                             ...                                             \n",
       "3                        5005  ...                    0                    0   \n",
       "6                       67543  ...                    0                    0   \n",
       "7                          89  ...                    0                    0   \n",
       "8                         100  ...                    0                    0   \n",
       "9                         100  ...                    0                    0   \n",
       "\n",
       "    dst2src_cwr_packets  dst2src_ece_packets  dst2src_urg_packets  \\\n",
       "id                                                                  \n",
       "3                     0                    0                    0   \n",
       "6                     0                    0                    0   \n",
       "7                     0                    0                    0   \n",
       "8                     0                    0                    0   \n",
       "9                     0                    0                    0   \n",
       "\n",
       "    dst2src_ack_packets  dst2src_psh_packets  dst2src_rst_packets  \\\n",
       "id                                                                  \n",
       "3                     0                    0                    0   \n",
       "6                     0                    0                    0   \n",
       "7                     0                    0                    0   \n",
       "8                     0                    0                    0   \n",
       "9                     0                    0                    0   \n",
       "\n",
       "    dst2src_fin_packets  label  \n",
       "id                              \n",
       "3                     0      0  \n",
       "6                     0      0  \n",
       "7                     0      0  \n",
       "8                     0      0  \n",
       "9                     0      0  \n",
       "\n",
       "[5 rows x 71 columns]"
      ]
     },
     "execution_count": 17,
     "metadata": {},
     "output_type": "execute_result"
    }
   ],
   "source": [
    "dados_train.head()"
   ]
  },
  {
   "attachments": {},
   "cell_type": "markdown",
   "metadata": {},
   "source": [
    "* Removendo colunas que possuem dados com um unico valor."
   ]
  },
  {
   "cell_type": "code",
   "execution_count": 26,
   "metadata": {},
   "outputs": [],
   "source": [
    "aux2 = dados_train.nunique()\n",
    "\n",
    "aux2 = aux2[aux2 == 1]\n",
    "\n",
    "dados_train =  dados_train.drop(columns=aux2.index)"
   ]
  },
  {
   "cell_type": "code",
   "execution_count": 27,
   "metadata": {},
   "outputs": [],
   "source": [
    "from sklearn.model_selection import train_test_split\n",
    "from sklearn.metrics import accuracy_score\n",
    "from sklearn.metrics import confusion_matrix\n",
    "import random\n",
    "\n",
    "teste_size = random.randrange(10, 40) / 100\n",
    "\n",
    "data_train = dados_train.drop(columns=['label'])\n",
    "\n",
    "data_label = dados_train['label']\n",
    "\n",
    "X_train, X_test, y_train, y_test = train_test_split(data_train, data_label, test_size=teste_size, random_state=42)\n",
    "\n",
    "teste_size"
   ]
  },
  {
   "cell_type": "code",
   "execution_count": 28,
   "metadata": {},
   "outputs": [
    {
     "name": "stdout",
     "output_type": "stream",
     "text": [
      "Acurácia: 0.18611629897669352\n"
     ]
    }
   ],
   "source": [
    "from sklearn.tree import DecisionTreeClassifier\n",
    "\n",
    "# Criando um objeto DecisionTreeClassifier\n",
    "clf = DecisionTreeClassifier()\n",
    "\n",
    "# Treinando o classificador\n",
    "clf.fit(X_train, y_train)\n",
    "\n",
    "# Fazendo previsões no conjunto de teste\n",
    "y_pred_tree = clf.predict(X_test)\n",
    "\n",
    "# Avaliando a precisão das previsões\n",
    "accuracy = accuracy_score(y_test, y_pred_tree)\n",
    "print(\"Acurácia:\", accuracy)"
   ]
  },
  {
   "cell_type": "code",
   "execution_count": 29,
   "metadata": {},
   "outputs": [
    {
     "data": {
      "text/plain": [
       "array([[28161, 76427],\n",
       "       [90914, 10106]])"
      ]
     },
     "execution_count": 29,
     "metadata": {},
     "output_type": "execute_result"
    }
   ],
   "source": [
    "confusion_matrix(y_test, y_pred_tree)"
   ]
  },
  {
   "cell_type": "code",
   "execution_count": 30,
   "metadata": {},
   "outputs": [
    {
     "name": "stdout",
     "output_type": "stream",
     "text": [
      "Acurácia: 0.5179467724991246\n"
     ]
    }
   ],
   "source": [
    "from sklearn.ensemble import RandomForestClassifier\n",
    "\n",
    "RFC = RandomForestClassifier(n_estimators=500, n_jobs=-1, max_leaf_nodes=120)\n",
    "\n",
    "RFC.fit(X_train, y_train)\n",
    "\n",
    "y_rfc = RFC.predict(X_test)\n",
    "\n",
    "accuracy = accuracy_score(y_test, y_rfc)\n",
    "\n",
    "print(\"Acurácia:\", accuracy)"
   ]
  },
  {
   "cell_type": "code",
   "execution_count": 31,
   "metadata": {},
   "outputs": [
    {
     "data": {
      "text/plain": [
       "array([[95989,  8599],\n",
       "       [90515, 10505]])"
      ]
     },
     "execution_count": 31,
     "metadata": {},
     "output_type": "execute_result"
    }
   ],
   "source": [
    "confusion_matrix(y_test, y_rfc)"
   ]
  },
  {
   "cell_type": "code",
   "execution_count": 35,
   "metadata": {},
   "outputs": [
    {
     "name": "stdout",
     "output_type": "stream",
     "text": [
      "Accuracy:  0.4913232948134314\n"
     ]
    }
   ],
   "source": [
    "from sklearn.linear_model import LogisticRegression\n",
    "\n",
    "log_clf = LogisticRegression()\n",
    "\n",
    "log_clf.fit(X_train, y_train)\n",
    "\n",
    "y_log_clf = log_clf.predict(X_test)\n",
    "\n",
    "accuracy = accuracy_score(y_test, y_log_clf)\n",
    "\n",
    "print('Accuracy: ', accuracy)"
   ]
  },
  {
   "cell_type": "code",
   "execution_count": 36,
   "metadata": {},
   "outputs": [
    {
     "data": {
      "text/plain": [
       "array([[     0, 104588],\n",
       "       [     0, 101020]])"
      ]
     },
     "execution_count": 36,
     "metadata": {},
     "output_type": "execute_result"
    }
   ],
   "source": [
    "confusion_matrix(y_test, y_log_clf)"
   ]
  },
  {
   "cell_type": "code",
   "execution_count": 26,
   "metadata": {},
   "outputs": [
    {
     "name": "stdout",
     "output_type": "stream",
     "text": [
      "acurácia:  0.24247598495720765\n"
     ]
    }
   ],
   "source": [
    "from sklearn.neighbors import KNeighborsClassifier\n",
    "\n",
    "KNN = KNeighborsClassifier(n_neighbors=3)\n",
    "\n",
    "KNN.fit(X_train, y_train)\n",
    "\n",
    "y_pre_knn = KNN.predict(X_test)\n",
    "\n",
    "accuracy = accuracy_score(y_test, y_pre_knn)\n",
    "\n",
    "print(\"acurácia: \", accuracy)"
   ]
  },
  {
   "cell_type": "code",
   "execution_count": 27,
   "metadata": {},
   "outputs": [
    {
     "data": {
      "text/plain": [
       "array([[12936, 35594],\n",
       "       [36720, 10211]])"
      ]
     },
     "execution_count": 27,
     "metadata": {},
     "output_type": "execute_result"
    }
   ],
   "source": [
    "confusion_matrix(y_test, y_pre_knn)"
   ]
  }
 ],
 "metadata": {
  "kernelspec": {
   "display_name": ".env",
   "language": "python",
   "name": "python3"
  },
  "language_info": {
   "codemirror_mode": {
    "name": "ipython",
    "version": 3
   },
   "file_extension": ".py",
   "mimetype": "text/x-python",
   "name": "python",
   "nbconvert_exporter": "python",
   "pygments_lexer": "ipython3",
   "version": "3.10.12"
  },
  "orig_nbformat": 4
 },
 "nbformat": 4,
 "nbformat_minor": 2
}
